{
 "cells": [
  {
   "cell_type": "code",
   "execution_count": 2,
   "id": "0da76a9e-2c1c-46be-af54-76176f2f70ad",
   "metadata": {},
   "outputs": [
    {
     "name": "stdout",
     "output_type": "stream",
     "text": [
      "pivot: 33\n",
      "left: [8, 13, 3, 25]\n",
      "right: [67, 54, 119, 84, 41]\n",
      "------------------------------\n",
      "pivot: 8\n",
      "left: [3]\n",
      "right: [13, 25]\n",
      "------------------------------\n",
      "pivot: 13\n",
      "left: []\n",
      "right: [25]\n",
      "------------------------------\n",
      "pivot: 67\n",
      "left: [54, 41]\n",
      "right: [119, 84]\n",
      "------------------------------\n",
      "pivot: 54\n",
      "left: [41]\n",
      "right: []\n",
      "------------------------------\n",
      "pivot: 119\n",
      "left: [84]\n",
      "right: []\n",
      "------------------------------\n",
      "排序結果： [3, 8, 13, 25, 33, 41, 54, 67, 84, 119]\n"
     ]
    }
   ],
   "source": [
    "data = [33, 67, 8, 13, 54, 119, 3, 84, 25, 41]\n",
    "\n",
    "def quick_sort(arr):\n",
    "    if len(arr) <= 1:\n",
    "        return arr\n",
    "\n",
    "    pivot = arr[0]\n",
    "    left = []\n",
    "    right = []\n",
    "\n",
    "    for i in range(1, len(arr)):\n",
    "        if arr[i] < pivot:\n",
    "            left.append(arr[i])\n",
    "        else:\n",
    "            right.append(arr[i])\n",
    "\n",
    "    print(f\"pivot: {pivot}\")\n",
    "    print(f\"left: {left}\")\n",
    "    print(f\"right: {right}\")\n",
    "    print(\"-\" * 30)\n",
    "\n",
    "    return quick_sort(left) + [pivot] + quick_sort(right)\n",
    "\n",
    "sorted_data = quick_sort(data)\n",
    "print(\"排序結果：\", sorted_data)"
   ]
  },
  {
   "cell_type": "code",
   "execution_count": null,
   "id": "f25a2c22-745d-4938-80d3-4e5077f13567",
   "metadata": {},
   "outputs": [],
   "source": []
  }
 ],
 "metadata": {
  "kernelspec": {
   "display_name": "Python [conda env:base] *",
   "language": "python",
   "name": "conda-base-py"
  },
  "language_info": {
   "codemirror_mode": {
    "name": "ipython",
    "version": 3
   },
   "file_extension": ".py",
   "mimetype": "text/x-python",
   "name": "python",
   "nbconvert_exporter": "python",
   "pygments_lexer": "ipython3",
   "version": "3.12.7"
  }
 },
 "nbformat": 4,
 "nbformat_minor": 5
}
